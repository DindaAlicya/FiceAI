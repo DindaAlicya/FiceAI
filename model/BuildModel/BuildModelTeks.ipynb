{
 "cells": [
  {
   "cell_type": "code",
   "execution_count": 1,
   "id": "93d2b47b",
   "metadata": {},
   "outputs": [],
   "source": [
    "import re\n",
    "import numpy as np\n",
    "import pandas as pd\n",
    "from pathlib import Path\n",
    "import joblib\n",
    "import matplotlib.pyplot as plt\n",
    "\n",
    "from sklearn.model_selection import train_test_split, StratifiedKFold, cross_val_predict, GridSearchCV, learning_curve\n",
    "from sklearn.pipeline import Pipeline\n",
    "from sklearn.feature_extraction.text import TfidfVectorizer\n",
    "from sklearn.linear_model import LogisticRegression\n",
    "from sklearn.svm import LinearSVC\n",
    "from sklearn.svm import SVC\n",
    "from sklearn.naive_bayes import MultinomialNB\n",
    "from sklearn.ensemble import RandomForestClassifier, HistGradientBoostingClassifier\n",
    "from sklearn.metrics import accuracy_score, precision_score, recall_score, f1_score, roc_auc_score, classification_report, confusion_matrix"
   ]
  },
  {
   "cell_type": "code",
   "execution_count": 2,
   "id": "28641cf2",
   "metadata": {},
   "outputs": [],
   "source": [
    "#Load Dataset\n",
    "QUICK_MODE = True #grid parameter kecil untuk mempercepat training\n",
    "DATA_PATH = \"D:\\MyProject\\FinanceAI\\dataset\\dataset_keuangan.csv\"\n",
    "OUT_DIR = \"D:\\MyProject\\FinanceAI\\model\""
   ]
  },
  {
   "cell_type": "code",
   "execution_count": 3,
   "id": "ebef6b3c",
   "metadata": {},
   "outputs": [],
   "source": [
    "# cleaning teks di dataset\n",
    "def clean_text(s: str) -> str:\n",
    "    s = str(s).lower()\n",
    "    s = re.sub(r'\\b(\\d+[\\d\\.,]*)\\b', ' <NUM> ', s)\n",
    "    s = re.sub(r'\\b(ribu|rb|k|jt|juta)\\b', ' <NUM> ', s) #ubah kata ribu, rb, jt, juta dan sebagainya menjadi nominal\n",
    "    s = re.sub(r'[^a-z0-9<> ]+', ' ', s)\n",
    "    s = re.sub(r'\\s+', ' ', s).strip()\n",
    "    return s"
   ]
  },
  {
   "cell_type": "code",
   "execution_count": 4,
   "id": "8ca76df2",
   "metadata": {},
   "outputs": [],
   "source": [
    "def print_metrics(y_true, y_pred, y_score=None, label_names=[\"pengeluaran\",\"pemasukan\"]): #fungsi buat menghitung seberapa akurat mode mengelompokkan pemasukan dan pengeluaran\n",
    "    acc = accuracy_score(y_true, y_pred)\n",
    "    prec = precision_score(y_true, y_pred)    \n",
    "    rec = recall_score(y_true, y_pred)    \n",
    "    f1 = f1_score(y_true, y_pred)    \n",
    "    print(\"Accuracy: {:.4f} | Precision: {:.4f} | Recall: {:.4f} | F1: {:.4f}\".format(acc, prec, rec, f1)) # hasil metrik akurasi, precision, recall, dan F1-score dari var acc, prec rec f1  \n",
    "    #kalau ada probabilitas prediksi (y_score), hitung nilai ROC-AUC\n",
    "    if y_score is not None:\n",
    "        try:\n",
    "            auc = roc_auc_score(y_true, y_score)  # Mengukur seberapa baik model membedakan kelas\n",
    "            print(\"ROC-AUC: {:.4f}\".format(auc))\n",
    "        except Exception:\n",
    "            pass\n",
    "    \n",
    "    # Menampilkan classification report (precision, recall, f1, support per kelas)\n",
    "    print(\"\\nClassification report:\\n\", classification_report(y_true, y_pred, target_names=label_names, digits=4))\n",
    "    \n",
    "    # Menampilkan confusion matrix (jumlah prediksi benar dan salah antar kelas)\n",
    "    print(\"Confusion matrix:\\n\", confusion_matrix(y_true, y_pred))\n"
   ]
  },
  {
   "cell_type": "code",
   "execution_count": 5,
   "id": "ffc0a254",
   "metadata": {},
   "outputs": [],
   "source": [
    "def plot_confusion(cm, title=\"Confusion matrix\", labels=[\"pengeluaran\",\"pemasukan\"]): #fungsi nampilinconfusion matrix  buat analisis performa model klasifikasi\n",
    "    fig = plt.figure(figsize=(4,3))\n",
    "    plt.imshow(cm)\n",
    "    plt.title(title)    \n",
    "    plt.xlabel(\"Predicted\")    \n",
    "    plt.ylabel(\"Actual\")    \n",
    "    plt.xticks([0,1], labels)\n",
    "    plt.yticks([0,1], labels)  \n",
    "    # np.ndenumerate(cm) memberi pasangan index (i,j) dan value dari matrix\n",
    "    for (i, j), val in np.ndenumerate(cm):\n",
    "        plt.text(j, i, int(val), ha=\"center\", va=\"center\")  \n",
    "    plt.tight_layout()    \n",
    "    plt.show()\n"
   ]
  },
  {
   "cell_type": "code",
   "execution_count": 6,
   "id": "579b109e",
   "metadata": {},
   "outputs": [
    {
     "data": {
      "text/html": [
       "<div>\n",
       "<style scoped>\n",
       "    .dataframe tbody tr th:only-of-type {\n",
       "        vertical-align: middle;\n",
       "    }\n",
       "\n",
       "    .dataframe tbody tr th {\n",
       "        vertical-align: top;\n",
       "    }\n",
       "\n",
       "    .dataframe thead th {\n",
       "        text-align: right;\n",
       "    }\n",
       "</style>\n",
       "<table border=\"1\" class=\"dataframe\">\n",
       "  <thead>\n",
       "    <tr style=\"text-align: right;\">\n",
       "      <th></th>\n",
       "      <th>kalimat</th>\n",
       "      <th>label</th>\n",
       "    </tr>\n",
       "  </thead>\n",
       "  <tbody>\n",
       "    <tr>\n",
       "      <th>0</th>\n",
       "      <td>membeli 2jt</td>\n",
       "      <td>pengeluaran</td>\n",
       "    </tr>\n",
       "    <tr>\n",
       "      <th>1</th>\n",
       "      <td>keluar duit 100k</td>\n",
       "      <td>pengeluaran</td>\n",
       "    </tr>\n",
       "    <tr>\n",
       "      <th>2</th>\n",
       "      <td>50.000 dari orang tua sebagai menang</td>\n",
       "      <td>pemasukan</td>\n",
       "    </tr>\n",
       "    <tr>\n",
       "      <th>3</th>\n",
       "      <td>duit masuk 1 juta</td>\n",
       "      <td>pemasukan</td>\n",
       "    </tr>\n",
       "    <tr>\n",
       "      <th>4</th>\n",
       "      <td>duit masuk 5000</td>\n",
       "      <td>pemasukan</td>\n",
       "    </tr>\n",
       "  </tbody>\n",
       "</table>\n",
       "</div>"
      ],
      "text/plain": [
       "                                kalimat        label\n",
       "0                           membeli 2jt  pengeluaran\n",
       "1                      keluar duit 100k  pengeluaran\n",
       "2  50.000 dari orang tua sebagai menang    pemasukan\n",
       "3                     duit masuk 1 juta    pemasukan\n",
       "4                       duit masuk 5000    pemasukan"
      ]
     },
     "execution_count": 6,
     "metadata": {},
     "output_type": "execute_result"
    }
   ],
   "source": [
    "df = pd.read_csv(DATA_PATH) # pastikan dataset ada\n",
    "df = df.dropna(subset=[\"kalimat\", \"label\"]).reset_index(drop=True) #cek missing value dan autodrop kalau ada\n",
    "df = df.sample(frac=1, random_state=42).reset_index(drop=True)  # ngacak urutan baris DataFrame (agar training lebih fair)\n",
    "df.head()"
   ]
  },
  {
   "cell_type": "code",
   "execution_count": 7,
   "id": "03b7f9b6",
   "metadata": {},
   "outputs": [
    {
     "name": "stdout",
     "output_type": "stream",
     "text": [
      "Total rows: 10000\n",
      "label\n",
      "pengeluaran    5000\n",
      "pemasukan      5000\n",
      "Name: count, dtype: int64\n"
     ]
    }
   ],
   "source": [
    "label_map = {\"pengeluaran\":0, \"pemasukan\":1} #mapping label pengeluaran dan pemasukan\n",
    "df[\"y\"] = df[\"label\"].map(label_map)\n",
    "df[\"text_clean\"] = df[\"kalimat\"].apply(clean_text)\n",
    "\n",
    "print(\"Total rows:\", len(df))\n",
    "print(df[\"label\"].value_counts())"
   ]
  },
  {
   "cell_type": "code",
   "execution_count": 8,
   "id": "f8399ff8",
   "metadata": {},
   "outputs": [],
   "source": [
    "X = df[\"text_clean\"].values\n",
    "y = df[\"y\"].values\n",
    "X_train, X_test, y_train, y_test = train_test_split(X, y, test_size=0.2, stratify=y, random_state=42) #Membagi dataset menjadi data latih (train) dan data uji (test)"
   ]
  },
  {
   "cell_type": "code",
   "execution_count": 9,
   "id": "ef12b369",
   "metadata": {},
   "outputs": [],
   "source": [
    "tfidf = TfidfVectorizer(ngram_range=(1,2), min_df=2, max_features=20000) # Membuat vectorizer TF-IDF untuk mengubah teks menjadi fitur numerik\n",
    "\n",
    "pipelines = { # kumpulan pipeline model dengan kombinasi TF-IDF + classifier\n",
    "    \"LogisticRegression\": Pipeline([(\"tfidf\", tfidf), (\"clf\", LogisticRegression(C=1.0, class_weight=\"balanced\", max_iter=2000, solver=\"saga\", random_state=42))]),\n",
    "    \"LinearSVC\": Pipeline([(\"tfidf\", tfidf), (\"clf\", LinearSVC(C=1.0, class_weight=\"balanced\", max_iter=20000, random_state=42))]),\n",
    "    \"MultinomialNB\": Pipeline([(\"tfidf\", tfidf), (\"clf\", MultinomialNB(alpha=0.5))]),\n",
    "    \"RandomForest\": Pipeline([(\"tfidf\", tfidf), (\"clf\", RandomForestClassifier(n_estimators=100, max_depth=30, random_state=42, n_jobs=-1))]),\n",
    "    \"HistGradientBoosting\": Pipeline([(\"tfidf\", tfidf), (\"clf\", HistGradientBoostingClassifier(max_iter=100, random_state=42))])\n",
    "} \n"
   ]
  },
  {
   "cell_type": "code",
   "execution_count": 10,
   "id": "1fe5a6f1",
   "metadata": {},
   "outputs": [],
   "source": [
    "if QUICK_MODE:\n",
    "    # smaller work set\n",
    "    param_grids = {\n",
    "        \"LogisticRegression\": {\"clf__C\":[0.3,1.0]},\n",
    "        \"LinearSVC\": {\"clf__C\":[0.5,1.0]},\n",
    "        \"MultinomialNB\": {\"clf__alpha\":[0.5,1.0]},\n",
    "        \"RandomForest\": {\"clf__n_estimators\":[100], \"clf__max_depth\":[20,30]},\n",
    "        \"HistGradientBoosting\": {\"clf__max_iter\":[100]}\n",
    "    }\n",
    "    cv_for_tuning = 3\n",
    "else:\n",
    "    param_grids = {\n",
    "        \"LogisticRegression\": {\"clf__C\":[0.1,0.3,1.0,3.0], \"clf__class_weight\":[None,\"balanced\"]},\n",
    "        \"LinearSVC\": {\"clf__C\":[0.1,0.5,1.0,3.0], \"clf__class_weight\":[None,\"balanced\"]},\n",
    "        \"MultinomialNB\": {\"clf__alpha\":[0.1,0.5,1.0]},\n",
    "        \"RandomForest\": {\"clf__n_estimators\":[100,200], \"clf__max_depth\":[None,20,30]},\n",
    "        \"HistGradientBoosting\": {\"clf__max_iter\":[100,200]}\n",
    "    }\n",
    "    cv_for_tuning = 5\n"
   ]
  },
  {
   "cell_type": "code",
   "execution_count": 11,
   "id": "5d46770b",
   "metadata": {},
   "outputs": [],
   "source": [
    "cv = StratifiedKFold(n_splits=5, shuffle=True, random_state=42)\n",
    "summary_rows = []\n",
    "\n",
    "models = {\n",
    "    \"Logistic Regression\": LogisticRegression(max_iter=1000),\n",
    "    \"Random Forest\": RandomForestClassifier(),\n",
    "    \"SVM\": SVC()\n",
    "}\n",
    "\n",
    "vectorizer = TfidfVectorizer()\n",
    "X_train_vec = vectorizer.fit_transform(X_train)\n",
    "X_test_vec = vectorizer.transform(X_test)"
   ]
  },
  {
   "cell_type": "code",
   "execution_count": 12,
   "id": "6807acdf",
   "metadata": {},
   "outputs": [
    {
     "name": "stdout",
     "output_type": "stream",
     "text": [
      "\n",
      ">>> Processing: Logistic Regression\n",
      "Accuracy: 1.0000 | Precision: 1.0000 | Recall: 1.0000 | F1: 1.0000\n",
      "ROC-AUC: 1.0000\n",
      "\n",
      "Classification report:\n",
      "               precision    recall  f1-score   support\n",
      "\n",
      " pengeluaran     1.0000    1.0000    1.0000      1000\n",
      "   pemasukan     1.0000    1.0000    1.0000      1000\n",
      "\n",
      "    accuracy                         1.0000      2000\n",
      "   macro avg     1.0000    1.0000    1.0000      2000\n",
      "weighted avg     1.0000    1.0000    1.0000      2000\n",
      "\n",
      "Confusion matrix:\n",
      " [[1000    0]\n",
      " [   0 1000]]\n",
      "CV (train) F1: 1.0\n",
      "\n",
      ">>> Processing: Random Forest\n",
      "Accuracy: 1.0000 | Precision: 1.0000 | Recall: 1.0000 | F1: 1.0000\n",
      "ROC-AUC: 1.0000\n",
      "\n",
      "Classification report:\n",
      "               precision    recall  f1-score   support\n",
      "\n",
      " pengeluaran     1.0000    1.0000    1.0000      1000\n",
      "   pemasukan     1.0000    1.0000    1.0000      1000\n",
      "\n",
      "    accuracy                         1.0000      2000\n",
      "   macro avg     1.0000    1.0000    1.0000      2000\n",
      "weighted avg     1.0000    1.0000    1.0000      2000\n",
      "\n",
      "Confusion matrix:\n",
      " [[1000    0]\n",
      " [   0 1000]]\n",
      "CV (train) F1: 1.0\n",
      "\n",
      ">>> Processing: SVM\n",
      "Accuracy: 1.0000 | Precision: 1.0000 | Recall: 1.0000 | F1: 1.0000\n",
      "ROC-AUC: 1.0000\n",
      "\n",
      "Classification report:\n",
      "               precision    recall  f1-score   support\n",
      "\n",
      " pengeluaran     1.0000    1.0000    1.0000      1000\n",
      "   pemasukan     1.0000    1.0000    1.0000      1000\n",
      "\n",
      "    accuracy                         1.0000      2000\n",
      "   macro avg     1.0000    1.0000    1.0000      2000\n",
      "weighted avg     1.0000    1.0000    1.0000      2000\n",
      "\n",
      "Confusion matrix:\n",
      " [[1000    0]\n",
      " [   0 1000]]\n",
      "CV (train) F1: 1.0\n"
     ]
    }
   ],
   "source": [
    "for name, model in models.items(): # looping melakukan training, hyperparameter tuning , evaluasi, dan logging hasil untuk setiap model\n",
    "    print(\"\\n>>> Processing:\", name)\n",
    "    grid = param_grids.get(name, {})\n",
    "    if grid: # Kalau ada grid, lakukan hyperparameter tuning GridSearchCV\n",
    "        gs = GridSearchCV(model, grid, cv=cv_for_tuning, scoring=\"f1\", n_jobs=1, verbose=1)\n",
    "        gs.fit(X_train_vec, y_train)\n",
    "        best_model = gs.best_estimator_\n",
    "    else: #kalau tidak ada, atur proses defult\n",
    "        best_model = model\n",
    "        best_model.fit(X_train_vec, y_train)\n",
    "\n",
    "    y_test_pred = best_model.predict(X_test_vec)\n",
    "    y_test_score = None\n",
    "    if hasattr(best_model, \"predict_proba\"): # kalau model punya metode predict_proba, mbil probabilitas kelas positif\n",
    "        y_test_score = best_model.predict_proba(X_test_vec)[:, 1]\n",
    "    elif hasattr(best_model, \"decision_function\"): # kalau model punya decision_function → ambil skor decision\n",
    "        y_test_score = best_model.decision_function(X_test_vec)\n",
    "\n",
    "# Hitung metrik evaluasi pada test set\n",
    "    acc = accuracy_score(y_test, y_test_pred)\n",
    "    prec = precision_score(y_test, y_test_pred)\n",
    "    rec = recall_score(y_test, y_test_pred)\n",
    "    f1 = f1_score(y_test, y_test_pred)\n",
    "    auc = roc_auc_score(y_test, y_test_score) if y_test_score is not None else np.nan\n",
    "\n",
    "    print_metrics(y_test, y_test_pred, y_score=y_test_score)\n",
    "\n",
    "    # cross-validated predictions on train (diagnostics)\n",
    "    y_cv_pred = cross_val_predict(best_model, X_train_vec, y_train, cv=cv, method=\"predict\", n_jobs=1)\n",
    "    f1_cv = f1_score(y_train, y_cv_pred)\n",
    "    print(\"CV (train) F1:\", f1_cv)\n",
    "\n",
    "# Simpan hasil evaluasi ke summary_rows (untuk perbandingan antar model)\n",
    "    summary_rows.append({\n",
    "        \"model\": name, \"test_accuracy\": acc, \"test_precision\": prec, \"test_recall\": rec, \"test_f1\": f1, \"test_roc_auc\": auc,\n",
    "        \"cv_train_f1\": f1_cv, \"pipeline\": best_model\n",
    "    })"
   ]
  },
  {
   "cell_type": "code",
   "execution_count": 13,
   "id": "8234b6c7",
   "metadata": {},
   "outputs": [
    {
     "name": "stdout",
     "output_type": "stream",
     "text": [
      " Perbandingan setiap model:\n"
     ]
    },
    {
     "data": {
      "text/html": [
       "<div>\n",
       "<style scoped>\n",
       "    .dataframe tbody tr th:only-of-type {\n",
       "        vertical-align: middle;\n",
       "    }\n",
       "\n",
       "    .dataframe tbody tr th {\n",
       "        vertical-align: top;\n",
       "    }\n",
       "\n",
       "    .dataframe thead th {\n",
       "        text-align: right;\n",
       "    }\n",
       "</style>\n",
       "<table border=\"1\" class=\"dataframe\">\n",
       "  <thead>\n",
       "    <tr style=\"text-align: right;\">\n",
       "      <th></th>\n",
       "      <th>model</th>\n",
       "      <th>test_accuracy</th>\n",
       "      <th>test_precision</th>\n",
       "      <th>test_recall</th>\n",
       "      <th>test_f1</th>\n",
       "      <th>test_roc_auc</th>\n",
       "      <th>cv_train_f1</th>\n",
       "    </tr>\n",
       "  </thead>\n",
       "  <tbody>\n",
       "    <tr>\n",
       "      <th>0</th>\n",
       "      <td>Logistic Regression</td>\n",
       "      <td>1.0</td>\n",
       "      <td>1.0</td>\n",
       "      <td>1.0</td>\n",
       "      <td>1.0</td>\n",
       "      <td>1.0</td>\n",
       "      <td>1.0</td>\n",
       "    </tr>\n",
       "    <tr>\n",
       "      <th>1</th>\n",
       "      <td>Random Forest</td>\n",
       "      <td>1.0</td>\n",
       "      <td>1.0</td>\n",
       "      <td>1.0</td>\n",
       "      <td>1.0</td>\n",
       "      <td>1.0</td>\n",
       "      <td>1.0</td>\n",
       "    </tr>\n",
       "    <tr>\n",
       "      <th>2</th>\n",
       "      <td>SVM</td>\n",
       "      <td>1.0</td>\n",
       "      <td>1.0</td>\n",
       "      <td>1.0</td>\n",
       "      <td>1.0</td>\n",
       "      <td>1.0</td>\n",
       "      <td>1.0</td>\n",
       "    </tr>\n",
       "  </tbody>\n",
       "</table>\n",
       "</div>"
      ],
      "text/plain": [
       "                 model  test_accuracy  test_precision  test_recall  test_f1  \\\n",
       "0  Logistic Regression            1.0             1.0          1.0      1.0   \n",
       "1        Random Forest            1.0             1.0          1.0      1.0   \n",
       "2                  SVM            1.0             1.0          1.0      1.0   \n",
       "\n",
       "   test_roc_auc  cv_train_f1  \n",
       "0           1.0          1.0  \n",
       "1           1.0          1.0  \n",
       "2           1.0          1.0  "
      ]
     },
     "metadata": {},
     "output_type": "display_data"
    }
   ],
   "source": [
    "summary_df = pd.DataFrame(summary_rows).sort_values(by=\"test_f1\", ascending=False).reset_index(drop=True)\n",
    "print(\" Perbandingan setiap model:\")\n",
    "display(summary_df[[\"model\",\"test_accuracy\",\"test_precision\",\"test_recall\",\"test_f1\",\"test_roc_auc\",\"cv_train_f1\"]])"
   ]
  },
  {
   "cell_type": "code",
   "execution_count": 14,
   "id": "099c3401",
   "metadata": {},
   "outputs": [
    {
     "name": "stdout",
     "output_type": "stream",
     "text": [
      "Best model: Logistic Regression\n"
     ]
    }
   ],
   "source": [
    "#pengambilan model terbaik berdasarkan rata-rata skor ukuran data dan learning curve\n",
    "best_pipeline = summary_df.loc[0, \"pipeline\"]\n",
    "best_name = summary_df.loc[0, \"model\"]\n",
    "print(\"Best model:\", best_name) \n",
    "train_sizes, train_scores, test_scores = learning_curve(best_pipeline, X_train_vec, y_train, cv=5, train_sizes=np.linspace(0.1,1.0,5), scoring=\"f1\", n_jobs=1)\n",
    "train_scores_mean = np.mean(train_scores, axis=1)\n",
    "test_scores_mean = np.mean(test_scores, axis=1)"
   ]
  },
  {
   "cell_type": "code",
   "execution_count": 15,
   "id": "6b068cd0",
   "metadata": {},
   "outputs": [
    {
     "data": {
      "image/png": "[encoded data removed]",
      "text/plain": [
       "<Figure size 600x400 with 1 Axes>"
      ]
     },
     "metadata": {},
     "output_type": "display_data"
    }
   ],
   "source": [
    "plt.figure(figsize=(6,4))\n",
    "plt.plot(train_sizes, train_scores_mean, marker='o', label=\"Training F1\")\n",
    "plt.plot(train_sizes, test_scores_mean, marker='o', label=\"CV F1\")\n",
    "plt.xlabel(\"Training examples\")\n",
    "plt.ylabel(\"F1 score\")\n",
    "plt.title(f\"Learning curve - {best_name}\")\n",
    "plt.legend()\n",
    "plt.grid(True)\n",
    "plt.tight_layout()\n",
    "plt.show()"
   ]
  },
  {
   "cell_type": "code",
   "execution_count": 16,
   "id": "ae28abd9",
   "metadata": {},
   "outputs": [
    {
     "data": {
      "image/png": "[encoded data removed]",
      "text/plain": [
       "<Figure size 400x300 with 1 Axes>"
      ]
     },
     "metadata": {},
     "output_type": "display_data"
    }
   ],
   "source": [
    "y_best_test_pred = best_pipeline.predict(X_test_vec)\n",
    "cm = confusion_matrix(y_test, y_best_test_pred)\n",
    "plot_confusion(cm, title=f\"Confusion matrix - {best_name}\")"
   ]
  },
  {
   "cell_type": "code",
   "execution_count": 17,
   "id": "be3c3c63",
   "metadata": {},
   "outputs": [
    {
     "name": "stdout",
     "output_type": "stream",
     "text": [
      "Vectorizer berhasil disimpan\n",
      "Model classifier berhasil disimpan\n"
     ]
    }
   ],
   "source": [
    "# Mengambil model terbaik \n",
    "best_model = summary_df.loc[0, \"pipeline\"]\n",
    "\n",
    "# simpan vectorizer dan model dalam bentuk terpisah\n",
    "vectorizer_path = Path(OUT_DIR) / \"tfidf_vectorizer.joblib\"\n",
    "model_path = Path(OUT_DIR) / \"best_classifier.joblib\"\n",
    "\n",
    "joblib.dump(vectorizer, vectorizer_path)\n",
    "joblib.dump(best_model, model_path)\n",
    "\n",
    "print(f\"Vectorizer berhasil disimpan\")\n",
    "print(f\"Model classifier berhasil disimpan\")"
   ]
  },
  {
   "cell_type": "code",
   "execution_count": 18,
   "id": "70d45c07",
   "metadata": {},
   "outputs": [
    {
     "name": "stdout",
     "output_type": "stream",
     "text": [
      "Vectorizer dan model berhasil dimuat.\n",
      "--- Hasil Prediksi pada Kalimat Baru ---\n",
      "\n",
      "Kalimat: 'gaji an 5 juta'\n",
      "Prediksi: PEMASUKAN (Confidence: 95.85%)\n",
      "\n",
      "Kalimat: 'Kemarin aku beli kopi harganya 25 ribu.'\n",
      "Prediksi: PENGELUARAN (Confidence: 96.72%)\n",
      "\n",
      "Kalimat: 'nemu uang di jalan 20k'\n",
      "Prediksi: PEMASUKAN (Confidence: 74.34%)\n",
      "\n",
      "Kalimat: 'Pengeluaran bulan ini untuk bayar tagihan listrik dan internet.'\n",
      "Prediksi: PENGELUARAN (Confidence: 99.78%)\n",
      "\n",
      "Kalimat: 'Menerima bonus akhir tahun dari kantor.'\n",
      "Prediksi: PEMASUKAN (Confidence: 99.70%)\n"
     ]
    }
   ],
   "source": [
    "vectorizer_path = f\"{OUT_DIR}/tfidf_vectorizer.joblib\"\n",
    "model_path = f\"{OUT_DIR}/best_classifier.joblib\"\n",
    "\n",
    "try:\n",
    "    loaded_vectorizer = joblib.load(vectorizer_path)\n",
    "    loaded_model = joblib.load(model_path)\n",
    "    print(\"Vectorizer dan model berhasil dimuat.\")\n",
    "except FileNotFoundError as e:\n",
    "    print(f\"Error: File tidak ditemukan.\")\n",
    "    exit()\n",
    "\n",
    "# tes model dengan input kalimat baru\n",
    "kalimat = [\n",
    "    \"gaji an 5 juta\",\n",
    "    \"Kemarin aku beli kopi harganya 25 ribu.\",\n",
    "    \"nemu uang di jalan 20k\",\n",
    "    \"Pengeluaran bulan ini untuk bayar tagihan listrik dan internet.\",\n",
    "    \"Menerima bonus akhir tahun dari kantor.\"\n",
    "]\n",
    "\n",
    "# bersihin teks dan ubah jadi vektir numerik dengan vectorizer yang di simpan tadi\n",
    "kalimat_clean = [clean_text(k) for k in kalimat]\n",
    "kalimat_vec = loaded_vectorizer.transform(kalimat_clean)\n",
    "\n",
    "# prediksi dengan model \n",
    "prediksi = loaded_model.predict(kalimat_vec)\n",
    "prediksi_proba = loaded_model.predict_proba(kalimat_vec)\n",
    "\n",
    "label_map_inverse = {0: \"pengeluaran\", 1: \"pemasukan\"}\n",
    "hasil_prediksi = [label_map_inverse[p] for p in prediksi]\n",
    "\n",
    "print(\"--- Hasil Prediksi pada Kalimat Baru ---\")\n",
    "for i, kalimat in enumerate(kalimat):\n",
    "    label = hasil_prediksi[i]\n",
    "    confidence = prediksi_proba[i].max() * 100\n",
    "    print(f\"\\nKalimat: '{kalimat}'\")\n",
    "    print(f\"Prediksi: {label.upper()} (Confidence: {confidence:.2f}%)\")\n"
   ]
  }
 ],
 "metadata": {
  "kernelspec": {
   "display_name": ".venv",
   "language": "python",
   "name": "python3"
  },
  "language_info": {
   "codemirror_mode": {
    "name": "ipython",
    "version": 3
   },
   "file_extension": ".py",
   "mimetype": "text/x-python",
   "name": "python",
   "nbconvert_exporter": "python",
   "pygments_lexer": "ipython3",
   "version": "3.10.0"
  }
 },
 "nbformat": 4,
 "nbformat_minor": 5
}
